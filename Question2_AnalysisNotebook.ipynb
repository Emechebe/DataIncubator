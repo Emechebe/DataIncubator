{
 "cells": [
  {
   "cell_type": "code",
   "execution_count": null,
   "metadata": {
    "collapsed": true
   },
   "outputs": [],
   "source": [
    "# Question 2 script"
   ]
  },
  {
   "cell_type": "code",
   "execution_count": 1,
   "metadata": {
    "collapsed": true
   },
   "outputs": [],
   "source": [
    "# Import Pandas and Numpy Library\n",
    "import pandas as pd\n",
    "import numpy as np"
   ]
  },
  {
   "cell_type": "code",
   "execution_count": 2,
   "metadata": {},
   "outputs": [
    {
     "name": "stderr",
     "output_type": "stream",
     "text": [
      "/Users/emechebe/anaconda2/lib/python2.7/site-packages/IPython/core/interactiveshell.py:2718: DtypeWarning: Columns (25,27) have mixed types. Specify dtype option on import or set low_memory=False.\n",
      "  interactivity=interactivity, compiler=compiler, result=result)\n"
     ]
    }
   ],
   "source": [
    "# Read in Montana csv files\n",
    "Montana = pd.read_csv('MT-clean.csv')"
   ]
  },
  {
   "cell_type": "code",
   "execution_count": 3,
   "metadata": {},
   "outputs": [
    {
     "data": {
      "text/html": [
       "<div>\n",
       "<style>\n",
       "    .dataframe thead tr:only-child th {\n",
       "        text-align: right;\n",
       "    }\n",
       "\n",
       "    .dataframe thead th {\n",
       "        text-align: left;\n",
       "    }\n",
       "\n",
       "    .dataframe tbody tr th {\n",
       "        vertical-align: top;\n",
       "    }\n",
       "</style>\n",
       "<table border=\"1\" class=\"dataframe\">\n",
       "  <thead>\n",
       "    <tr style=\"text-align: right;\">\n",
       "      <th></th>\n",
       "      <th>id</th>\n",
       "      <th>state</th>\n",
       "      <th>stop_date</th>\n",
       "      <th>stop_time</th>\n",
       "      <th>location_raw</th>\n",
       "      <th>county_name</th>\n",
       "      <th>county_fips</th>\n",
       "      <th>fine_grained_location</th>\n",
       "      <th>police_department</th>\n",
       "      <th>driver_gender</th>\n",
       "      <th>...</th>\n",
       "      <th>lon</th>\n",
       "      <th>ethnicity</th>\n",
       "      <th>city</th>\n",
       "      <th>out_of_state</th>\n",
       "      <th>vehicle_year</th>\n",
       "      <th>vehicle_make</th>\n",
       "      <th>vehicle_model</th>\n",
       "      <th>vehicle_style</th>\n",
       "      <th>search_reason</th>\n",
       "      <th>stop_outcome_raw</th>\n",
       "    </tr>\n",
       "  </thead>\n",
       "  <tbody>\n",
       "    <tr>\n",
       "      <th>0</th>\n",
       "      <td>MT-2009-00001</td>\n",
       "      <td>MT</td>\n",
       "      <td>2009-01-01</td>\n",
       "      <td>02:10</td>\n",
       "      <td>CASCADE</td>\n",
       "      <td>Cascade County</td>\n",
       "      <td>30013.0</td>\n",
       "      <td>US 89 N MM10 (SB)</td>\n",
       "      <td>NaN</td>\n",
       "      <td>F</td>\n",
       "      <td>...</td>\n",
       "      <td>-111.802932</td>\n",
       "      <td>N</td>\n",
       "      <td>NaN</td>\n",
       "      <td>False</td>\n",
       "      <td>1994</td>\n",
       "      <td>FORD</td>\n",
       "      <td>EXPLORER</td>\n",
       "      <td>SPORT UTILITY</td>\n",
       "      <td>NaN</td>\n",
       "      <td>TRAFFIC CITATION,WARNING</td>\n",
       "    </tr>\n",
       "    <tr>\n",
       "      <th>1</th>\n",
       "      <td>MT-2009-00002</td>\n",
       "      <td>MT</td>\n",
       "      <td>2009-01-02</td>\n",
       "      <td>11:34</td>\n",
       "      <td>MISSOULA</td>\n",
       "      <td>Missoula County</td>\n",
       "      <td>30063.0</td>\n",
       "      <td>HWY 93 SO AND ANNS LANE S/B</td>\n",
       "      <td>NaN</td>\n",
       "      <td>M</td>\n",
       "      <td>...</td>\n",
       "      <td>-114.081142</td>\n",
       "      <td>N</td>\n",
       "      <td>NaN</td>\n",
       "      <td>False</td>\n",
       "      <td>1996</td>\n",
       "      <td>GMC</td>\n",
       "      <td>TK</td>\n",
       "      <td>TRUCK</td>\n",
       "      <td>NaN</td>\n",
       "      <td>INFFRACTION ARREST,WARNING</td>\n",
       "    </tr>\n",
       "    <tr>\n",
       "      <th>2</th>\n",
       "      <td>MT-2009-00003</td>\n",
       "      <td>MT</td>\n",
       "      <td>2009-01-03</td>\n",
       "      <td>11:36</td>\n",
       "      <td>MISSOULA</td>\n",
       "      <td>Missoula County</td>\n",
       "      <td>30063.0</td>\n",
       "      <td>P007 HWY 93 MM 77 N/B</td>\n",
       "      <td>NaN</td>\n",
       "      <td>M</td>\n",
       "      <td>...</td>\n",
       "      <td>-114.073505</td>\n",
       "      <td>N</td>\n",
       "      <td>NaN</td>\n",
       "      <td>False</td>\n",
       "      <td>1999</td>\n",
       "      <td>GMC</td>\n",
       "      <td>YUKON</td>\n",
       "      <td>SPORT UTILITY</td>\n",
       "      <td>NaN</td>\n",
       "      <td>INFFRACTION ARREST</td>\n",
       "    </tr>\n",
       "    <tr>\n",
       "      <th>3</th>\n",
       "      <td>MT-2009-00004</td>\n",
       "      <td>MT</td>\n",
       "      <td>2009-01-04</td>\n",
       "      <td>10:33</td>\n",
       "      <td>MISSOULA</td>\n",
       "      <td>Missoula County</td>\n",
       "      <td>30063.0</td>\n",
       "      <td>P007 HWY 93 MM 81 S/B</td>\n",
       "      <td>NaN</td>\n",
       "      <td>F</td>\n",
       "      <td>...</td>\n",
       "      <td>-114.079027</td>\n",
       "      <td>NaN</td>\n",
       "      <td>NaN</td>\n",
       "      <td>False</td>\n",
       "      <td>2002</td>\n",
       "      <td>HOND</td>\n",
       "      <td>CR-V</td>\n",
       "      <td>SPORT UTILITY</td>\n",
       "      <td>NaN</td>\n",
       "      <td>INFFRACTION ARREST</td>\n",
       "    </tr>\n",
       "    <tr>\n",
       "      <th>4</th>\n",
       "      <td>MT-2009-00005</td>\n",
       "      <td>MT</td>\n",
       "      <td>2009-01-04</td>\n",
       "      <td>10:46</td>\n",
       "      <td>MISSOULA</td>\n",
       "      <td>Missoula County</td>\n",
       "      <td>30063.0</td>\n",
       "      <td>P007 HWY 93 MM 81 N/B</td>\n",
       "      <td>NaN</td>\n",
       "      <td>M</td>\n",
       "      <td>...</td>\n",
       "      <td>-114.079150</td>\n",
       "      <td>NaN</td>\n",
       "      <td>NaN</td>\n",
       "      <td>False</td>\n",
       "      <td>1992</td>\n",
       "      <td>TOYT</td>\n",
       "      <td>TERCEL</td>\n",
       "      <td>SEDAN</td>\n",
       "      <td>NaN</td>\n",
       "      <td>INFFRACTION ARREST</td>\n",
       "    </tr>\n",
       "  </tbody>\n",
       "</table>\n",
       "<p>5 rows × 33 columns</p>\n",
       "</div>"
      ],
      "text/plain": [
       "              id state   stop_date stop_time location_raw      county_name  \\\n",
       "0  MT-2009-00001    MT  2009-01-01     02:10      CASCADE   Cascade County   \n",
       "1  MT-2009-00002    MT  2009-01-02     11:34     MISSOULA  Missoula County   \n",
       "2  MT-2009-00003    MT  2009-01-03     11:36     MISSOULA  Missoula County   \n",
       "3  MT-2009-00004    MT  2009-01-04     10:33     MISSOULA  Missoula County   \n",
       "4  MT-2009-00005    MT  2009-01-04     10:46     MISSOULA  Missoula County   \n",
       "\n",
       "   county_fips        fine_grained_location  police_department driver_gender  \\\n",
       "0      30013.0            US 89 N MM10 (SB)                NaN             F   \n",
       "1      30063.0  HWY 93 SO AND ANNS LANE S/B                NaN             M   \n",
       "2      30063.0        P007 HWY 93 MM 77 N/B                NaN             M   \n",
       "3      30063.0        P007 HWY 93 MM 81 S/B                NaN             F   \n",
       "4      30063.0        P007 HWY 93 MM 81 N/B                NaN             M   \n",
       "\n",
       "              ...                     lon  ethnicity city out_of_state  \\\n",
       "0             ...             -111.802932          N  NaN        False   \n",
       "1             ...             -114.081142          N  NaN        False   \n",
       "2             ...             -114.073505          N  NaN        False   \n",
       "3             ...             -114.079027        NaN  NaN        False   \n",
       "4             ...             -114.079150        NaN  NaN        False   \n",
       "\n",
       "  vehicle_year vehicle_make  vehicle_model  vehicle_style search_reason  \\\n",
       "0         1994         FORD       EXPLORER  SPORT UTILITY           NaN   \n",
       "1         1996          GMC             TK          TRUCK           NaN   \n",
       "2         1999          GMC          YUKON  SPORT UTILITY           NaN   \n",
       "3         2002         HOND           CR-V  SPORT UTILITY           NaN   \n",
       "4         1992         TOYT         TERCEL          SEDAN           NaN   \n",
       "\n",
       "             stop_outcome_raw  \n",
       "0    TRAFFIC CITATION,WARNING  \n",
       "1  INFFRACTION ARREST,WARNING  \n",
       "2          INFFRACTION ARREST  \n",
       "3          INFFRACTION ARREST  \n",
       "4          INFFRACTION ARREST  \n",
       "\n",
       "[5 rows x 33 columns]"
      ]
     },
     "execution_count": 3,
     "metadata": {},
     "output_type": "execute_result"
    }
   ],
   "source": [
    "Montana.head()"
   ]
  },
  {
   "cell_type": "code",
   "execution_count": 4,
   "metadata": {
    "collapsed": true
   },
   "outputs": [],
   "source": [
    "# Number of stops\n",
    "Total_Stops=Montana.shape[0]"
   ]
  },
  {
   "cell_type": "code",
   "execution_count": 5,
   "metadata": {},
   "outputs": [
    {
     "data": {
      "text/plain": [
       "825118"
      ]
     },
     "execution_count": 5,
     "metadata": {},
     "output_type": "execute_result"
    }
   ],
   "source": [
    "Total_Stops"
   ]
  },
  {
   "cell_type": "code",
   "execution_count": 6,
   "metadata": {
    "collapsed": true
   },
   "outputs": [],
   "source": [
    "# Number of male stops\n",
    "Male_Stops=Montana[Montana.driver_gender == 'M'].shape[0]"
   ]
  },
  {
   "cell_type": "code",
   "execution_count": 7,
   "metadata": {},
   "outputs": [
    {
     "data": {
      "text/plain": [
       "556934"
      ]
     },
     "execution_count": 7,
     "metadata": {},
     "output_type": "execute_result"
    }
   ],
   "source": [
    "Male_Stops"
   ]
  },
  {
   "cell_type": "code",
   "execution_count": 8,
   "metadata": {},
   "outputs": [
    {
     "data": {
      "text/plain": [
       "0.6749749732765495"
      ]
     },
     "execution_count": 8,
     "metadata": {},
     "output_type": "execute_result"
    }
   ],
   "source": [
    "# What proportion of traffic stops in Montana involved male drivers?\n",
    "Male_Stops/float(Total_Stops)"
   ]
  },
  {
   "cell_type": "code",
   "execution_count": 9,
   "metadata": {
    "collapsed": true
   },
   "outputs": [],
   "source": [
    "# How many more times likely are you to be arrested in Montana during a \n",
    "# traffic stop if you have out of state plates?\n",
    "# I cast the question as:\n",
    "# Probability of arrest given out of state plates / Probability of arrest given in state policies"
   ]
  },
  {
   "cell_type": "code",
   "execution_count": 10,
   "metadata": {
    "collapsed": true
   },
   "outputs": [],
   "source": [
    "# Calculate the Probability of arrest given out of state plates\n",
    "def get_OutOfSate_Prob():\n",
    "    # Get the number of out of state stops\n",
    "    Total_Out_of_State_Stops=Montana[Montana.out_of_state == True].shape[0]\n",
    "    \n",
    "    # Save the out of state data in new dataframe\n",
    "    OutState=Montana[Montana.out_of_state == True]\n",
    "    # Remove nulls in the stop_outcome column\n",
    "    OutState_NotNull=OutState[OutState.stop_outcome_raw.notnull()]\n",
    "    # Get all the data that resulted in arrest\n",
    "    OutState_Arrest=OutState_NotNull[OutState_NotNull.stop_outcome_raw.str.contains('ARREST')]\n",
    "    # Get the number of out of state arrests\n",
    "    Out_of_State_Arrests=OutState_Arrest.shape[0]\n",
    "    Probability = Out_of_State_Arrests/float(Total_Out_of_State_Stops)\n",
    "    return Probability\n",
    "    "
   ]
  },
  {
   "cell_type": "code",
   "execution_count": 11,
   "metadata": {},
   "outputs": [
    {
     "data": {
      "text/plain": [
       "0.02390481288149243"
      ]
     },
     "execution_count": 11,
     "metadata": {},
     "output_type": "execute_result"
    }
   ],
   "source": [
    "Out_of_State_Prob=get_OutOfSate_Prob()\n",
    "Out_of_State_Prob"
   ]
  },
  {
   "cell_type": "code",
   "execution_count": 12,
   "metadata": {
    "collapsed": true
   },
   "outputs": [],
   "source": [
    "# Calculate the Probability of arrest given in state plates\n",
    "def get_InState_Prob():\n",
    "    # Get the number of out of state stops\n",
    "    Total_In_State_Stops=Montana[Montana.out_of_state == False].shape[0]\n",
    "    \n",
    "    # Save the out of state data in new dataframe\n",
    "    InState=Montana[Montana.out_of_state == False]\n",
    "    # Remove nulls in the stop_outcome column\n",
    "    InState_NotNull=InState[InState.stop_outcome_raw.notnull()]\n",
    "    # Get all the data that resulted in arrest\n",
    "    InState_Arrest=InState_NotNull[InState_NotNull.stop_outcome_raw.str.contains('ARREST')]\n",
    "    # Get the number of out of state arrests\n",
    "    In_State_Arrests=InState_Arrest.shape[0]\n",
    "    Probability = In_State_Arrests/float(Total_In_State_Stops)\n",
    "    return Probability"
   ]
  },
  {
   "cell_type": "code",
   "execution_count": 13,
   "metadata": {},
   "outputs": [
    {
     "data": {
      "text/plain": [
       "0.01976399936443907"
      ]
     },
     "execution_count": 13,
     "metadata": {},
     "output_type": "execute_result"
    }
   ],
   "source": [
    "In_State_Prob=get_InState_Prob()\n",
    "In_State_Prob"
   ]
  },
  {
   "cell_type": "code",
   "execution_count": 14,
   "metadata": {},
   "outputs": [
    {
     "data": {
      "text/plain": [
       "1.2095129351452942"
      ]
     },
     "execution_count": 14,
     "metadata": {},
     "output_type": "execute_result"
    }
   ],
   "source": [
    "# How many times more likely are you to be arrested in Montana if you are out of state?\n",
    "Out_of_State_Prob/float(In_State_Prob)"
   ]
  },
  {
   "cell_type": "code",
   "execution_count": 15,
   "metadata": {
    "collapsed": true
   },
   "outputs": [],
   "source": [
    "# Perform a (χ2) test to determine whether the proportions of arrests in these two populations are equal. \n",
    "# What is the value of the test statistic?\n",
    "# For this analysis, I set up my null and alternative hypothesis\n",
    "\n",
    "# Null hypothesis : Proportion of out of state arrests is same as proportion of in state arrests\n",
    "# Alternative hypothesis : Proportion of out of state arrests is NOT same as proportion of in state arrests\n",
    "# I set a 2 by 2 contingency table where the 2 columns are Arrests and No Arrests and the 2 rows\n",
    "# are Out_State and In_State"
   ]
  },
  {
   "cell_type": "markdown",
   "metadata": {},
   "source": [
    "![title](Contigency_Table.png)"
   ]
  },
  {
   "cell_type": "code",
   "execution_count": 16,
   "metadata": {
    "collapsed": true
   },
   "outputs": [],
   "source": [
    "# So fill in the cells. \n",
    "# Total out of state stops = ?\n",
    "# Out of state stops that resulted in arrests = ?\n",
    "# Out of state stops that did not result in arrests = ?\n",
    "\n",
    "# Total IN state stops = ?\n",
    "# In state stops that resulted in arrests = ?\n",
    "# In state stops that did not result in arrests = ?"
   ]
  },
  {
   "cell_type": "code",
   "execution_count": 17,
   "metadata": {
    "collapsed": true
   },
   "outputs": [],
   "source": [
    "def OutofStateNumbers ():\n",
    "    # Get the number of out of state stops\n",
    "    Total_Out_of_State_Stops=Montana[Montana.out_of_state == True].shape[0]\n",
    "    \n",
    "    # Save the out of state data in new dataframe\n",
    "    OutState=Montana[Montana.out_of_state == True]\n",
    "    # Remove nulls in the stop_outcome column\n",
    "    OutState_NotNull=OutState[OutState.stop_outcome_raw.notnull()]\n",
    "    # Get all the data that resulted in arrest\n",
    "    OutState_Arrest=OutState_NotNull[OutState_NotNull.stop_outcome_raw.str.contains('ARREST')]\n",
    "    # Get the number of out of state arrests\n",
    "    Out_of_State_Arrests=OutState_Arrest.shape[0]\n",
    "    return Total_Out_of_State_Stops, Out_of_State_Arrests"
   ]
  },
  {
   "cell_type": "code",
   "execution_count": 18,
   "metadata": {
    "collapsed": true
   },
   "outputs": [],
   "source": [
    "Total_Out_of_State_Stops, Out_of_State_Arrests=OutofStateNumbers ()"
   ]
  },
  {
   "cell_type": "code",
   "execution_count": 19,
   "metadata": {
    "collapsed": true
   },
   "outputs": [],
   "source": [
    "# Get the out of state that did not result in arrests\n",
    "Out_of_State_NoArrests = Total_Out_of_State_Stops - Out_of_State_Arrests"
   ]
  },
  {
   "cell_type": "code",
   "execution_count": 20,
   "metadata": {
    "collapsed": true
   },
   "outputs": [],
   "source": [
    "def InStateNumbers ():\n",
    "    # Get the number of out of state stops\n",
    "    Total_In_State_Stops=Montana[Montana.out_of_state == False].shape[0]\n",
    "    \n",
    "    # Save the out of state data in new dataframe\n",
    "    InState=Montana[Montana.out_of_state == False]\n",
    "    # Remove nulls in the stop_outcome column\n",
    "    InState_NotNull=InState[InState.stop_outcome_raw.notnull()]\n",
    "    # Get all the data that resulted in arrest\n",
    "    InState_Arrest=InState_NotNull[InState_NotNull.stop_outcome_raw.str.contains('ARREST')]\n",
    "    # Get the number of out of state arrests\n",
    "    In_State_Arrests=InState_Arrest.shape[0]\n",
    "    return Total_In_State_Stops, In_State_Arrests"
   ]
  },
  {
   "cell_type": "code",
   "execution_count": 21,
   "metadata": {
    "collapsed": true
   },
   "outputs": [],
   "source": [
    "Total_In_State_Stops, In_State_Arrests=InStateNumbers()"
   ]
  },
  {
   "cell_type": "code",
   "execution_count": 22,
   "metadata": {
    "collapsed": true
   },
   "outputs": [],
   "source": [
    "# Get the In state that did not result in arrests\n",
    "In_State_NoArrests = Total_In_State_Stops - In_State_Arrests"
   ]
  },
  {
   "cell_type": "code",
   "execution_count": 23,
   "metadata": {},
   "outputs": [
    {
     "data": {
      "text/plain": [
       "17058"
      ]
     },
     "execution_count": 23,
     "metadata": {},
     "output_type": "execute_result"
    }
   ],
   "source": [
    "TotalNumberOfArrests = Out_of_State_Arrests + In_State_Arrests\n",
    "TotalNumberOfArrests"
   ]
  },
  {
   "cell_type": "code",
   "execution_count": 24,
   "metadata": {},
   "outputs": [
    {
     "data": {
      "text/plain": [
       "803361"
      ]
     },
     "execution_count": 24,
     "metadata": {},
     "output_type": "execute_result"
    }
   ],
   "source": [
    "TotalNumberOfNoArrests = Out_of_State_NoArrests + In_State_NoArrests\n",
    "TotalNumberOfNoArrests"
   ]
  },
  {
   "cell_type": "markdown",
   "metadata": {},
   "source": [
    "![title](Contigency_Table1.png)"
   ]
  },
  {
   "cell_type": "code",
   "execution_count": 25,
   "metadata": {
    "collapsed": true
   },
   "outputs": [],
   "source": [
    "# These are all observed values. Calculate the expected values\n",
    "# Cell 1 = (203641 * 17058)/820419 = 4234\n",
    "# Cell 2 = (203641 * 803361)/820419 = 199406\n",
    "# Cell 3 = (616778 * 17058)/820419 = 12823\n",
    "# Cell 4 = (616778 * 803361)/820419 = 603954"
   ]
  },
  {
   "cell_type": "markdown",
   "metadata": {},
   "source": [
    "![title](Contigency_Table2.png)"
   ]
  },
  {
   "cell_type": "code",
   "execution_count": 26,
   "metadata": {
    "collapsed": true
   },
   "outputs": [],
   "source": [
    "# Now calculate the Chi square T test statistic\n",
    "# [(4868 - 4234)^^2/4234] + [(198773 - 199406)^^2/199406] + [(12190 - 12823)^^2/12823] + [(604588 - 603954)^^2/603954]\n",
    "# Chi square t test statistic  equals 128\n"
   ]
  },
  {
   "cell_type": "markdown",
   "metadata": {},
   "source": [
    "# Used R to determine the p value of the chisquare test statistic and the degree of freedom is number of classes - 1(2- 1 = 1)\n",
    "## > pchisq(128,1,lower.tail = F)\n",
    "## [1] 1.12243e-29"
   ]
  },
  {
   "cell_type": "code",
   "execution_count": 27,
   "metadata": {},
   "outputs": [
    {
     "data": {
      "text/plain": [
       "65.80998111785223"
      ]
     },
     "execution_count": 27,
     "metadata": {},
     "output_type": "execute_result"
    }
   ],
   "source": [
    "# What proportion of traffic stops in Montana resulted in speeding violations? \n",
    "# In other words, find the number of violations that include \"Speeding\" in the violation description \n",
    "# and divide that number by the total number of stops (or rows in the Montana dataset).\n",
    "\n",
    "#Montana.head()\n",
    "# Remove nulls in the violation column. Nulls does not allow for indexing\n",
    "Montana_NotNull=Montana[Montana.violation.notnull()]\n",
    "# Get all the data in Montana whose outcome ended in a speeding ticket\n",
    "Montana_speeding=Montana_NotNull[Montana_NotNull.violation.str.contains('Speeding')].shape[0]\n",
    "Montana_speeding\n",
    "# Total number of stops in Montana\n",
    "Total_stops = Montana.shape[0]\n",
    "\n",
    "# Proportion of traffic stops that resulted in speeding violations? \n",
    "Montana_speeding/float(Total_stops) * 100"
   ]
  },
  {
   "cell_type": "code",
   "execution_count": 28,
   "metadata": {
    "collapsed": true
   },
   "outputs": [],
   "source": [
    "# 65 percent of all Montana stops ended was about speeding violations"
   ]
  },
  {
   "cell_type": "code",
   "execution_count": 28,
   "metadata": {
    "collapsed": true
   },
   "outputs": [],
   "source": [
    "# How much more likely does a traffic stop in Montana result in a DUI than a traffic stop in Vermont? \n",
    "# To compute the proportion of traffic stops that result in a DUI, \n",
    "# divide the number of stops with \"DUI\" in the violation description by the total number of stops."
   ]
  },
  {
   "cell_type": "code",
   "execution_count": 29,
   "metadata": {},
   "outputs": [
    {
     "data": {
      "text/plain": [
       "1.0803303285105887"
      ]
     },
     "execution_count": 29,
     "metadata": {},
     "output_type": "execute_result"
    }
   ],
   "source": [
    "# Probability that a traffic stop in Montana results in a DUI?\n",
    "# Number of Montana stops resulting in a DUI\n",
    "Montana_DUI=Montana_NotNull[Montana_NotNull.violation.str.contains('DUI')].shape[0]\n",
    "# Montana_DUI\n",
    "# Total Number of Montana Stops\n",
    "Montana_Total_stops = Montana.shape[0]\n",
    "\n",
    "# Probability of traffic stop resulting in DUI in Montana\n",
    "Montana_DUI/float(Montana_Total_stops) * 100"
   ]
  },
  {
   "cell_type": "code",
   "execution_count": 30,
   "metadata": {},
   "outputs": [
    {
     "name": "stderr",
     "output_type": "stream",
     "text": [
      "/Users/emechebe/anaconda2/lib/python2.7/site-packages/IPython/core/interactiveshell.py:2718: DtypeWarning: Columns (19) have mixed types. Specify dtype option on import or set low_memory=False.\n",
      "  interactivity=interactivity, compiler=compiler, result=result)\n"
     ]
    }
   ],
   "source": [
    "# Read in Vermont data\n",
    "Vermont = pd.read_csv('VT-clean.csv')"
   ]
  },
  {
   "cell_type": "code",
   "execution_count": 31,
   "metadata": {},
   "outputs": [
    {
     "data": {
      "text/plain": [
       "0.26439804437227526"
      ]
     },
     "execution_count": 31,
     "metadata": {},
     "output_type": "execute_result"
    }
   ],
   "source": [
    "# Probability that a traffic stop in Vermont results in a DUI?\n",
    "# Remove nulls in the violation column. Nulls does not allow for indexing\n",
    "Vermont_NotNull=Vermont[Vermont.violation.notnull()]\n",
    "# Number of Vermont stops resulting in a DUI\n",
    "Vermont_DUI=Vermont_NotNull[Vermont_NotNull.violation.str.contains('DUI')].shape[0]\n",
    "# Total Number of Vermont Stops\n",
    "Vermont_Total_stops = Vermont.shape[0]\n",
    "\n",
    "# Probability of traffic stop resulting in DUI in Vermont\n",
    "Vermont_DUI/float(Vermont_Total_stops) * 100"
   ]
  },
  {
   "cell_type": "code",
   "execution_count": 32,
   "metadata": {},
   "outputs": [
    {
     "data": {
      "text/plain": [
       "5.4"
      ]
     },
     "execution_count": 32,
     "metadata": {},
     "output_type": "execute_result"
    }
   ],
   "source": [
    "1.08/float(0.2)"
   ]
  },
  {
   "cell_type": "code",
   "execution_count": 34,
   "metadata": {
    "collapsed": true
   },
   "outputs": [],
   "source": [
    "# A traffic stop in Montana is ~5x likelier to result in a DUI than a traffic stop in Vermont"
   ]
  },
  {
   "cell_type": "code",
   "execution_count": 35,
   "metadata": {
    "collapsed": true
   },
   "outputs": [],
   "source": [
    "# What is the extrapolated, average manufacture year of vehicles involved in traffic stops in Montana in 2020? \n",
    "# To answer this question, calculate the average vehicle manufacture year for each year's traffic stops. \n",
    "# Extrapolate using a linear regression."
   ]
  },
  {
   "cell_type": "code",
   "execution_count": 33,
   "metadata": {},
   "outputs": [
    {
     "name": "stderr",
     "output_type": "stream",
     "text": [
      "/Users/emechebe/anaconda2/lib/python2.7/site-packages/pandas/core/generic.py:3110: SettingWithCopyWarning: \n",
      "A value is trying to be set on a copy of a slice from a DataFrame.\n",
      "Try using .loc[row_indexer,col_indexer] = value instead\n",
      "\n",
      "See the caveats in the documentation: http://pandas.pydata.org/pandas-docs/stable/indexing.html#indexing-view-versus-copy\n",
      "  self[name] = value\n",
      "/Users/emechebe/anaconda2/lib/python2.7/site-packages/ipykernel_launcher.py:8: SettingWithCopyWarning: \n",
      "A value is trying to be set on a copy of a slice from a DataFrame.\n",
      "Try using .loc[row_indexer,col_indexer] = value instead\n",
      "\n",
      "See the caveats in the documentation: http://pandas.pydata.org/pandas-docs/stable/indexing.html#indexing-view-versus-copy\n",
      "  \n",
      "/Users/emechebe/anaconda2/lib/python2.7/site-packages/ipykernel_launcher.py:10: SettingWithCopyWarning: \n",
      "A value is trying to be set on a copy of a slice from a DataFrame.\n",
      "Try using .loc[row_indexer,col_indexer] = value instead\n",
      "\n",
      "See the caveats in the documentation: http://pandas.pydata.org/pandas-docs/stable/indexing.html#indexing-view-versus-copy\n",
      "  # Remove the CWD from sys.path while we load stuff.\n"
     ]
    }
   ],
   "source": [
    "# Remove the Nulls in the stop_date column\n",
    "Montana_NotNull=Montana[Montana.stop_date.notnull()]\n",
    "# Remove the Nulls in the vehicle_year column\n",
    "Montana_NotNull_vehicle_null=Montana_NotNull[Montana_NotNull.vehicle_year.notnull()]\n",
    "# Convert the vehicle_year values into numeric data type\n",
    "Montana_NotNull_vehicle_null.vehicle_year=pd.to_numeric(Montana_NotNull_vehicle_null.vehicle_year, errors='coerce')\n",
    "# Create a new column in the dataset that is in the datetime format\n",
    "Montana_NotNull_vehicle_null['DateFormat'] =  pd.to_datetime(Montana_NotNull_vehicle_null['stop_date'], format='%Y-%m-%d')\n",
    "# Create a new column that contains just the year \n",
    "Montana_NotNull_vehicle_null['stop_year'] = Montana_NotNull_vehicle_null.DateFormat.dt.year\n",
    "# Filter the vehicle_year to remove all NAN values\n",
    "filtered_data = Montana_NotNull_vehicle_null[~Montana_NotNull_vehicle_null['vehicle_year'].isnull()]\n",
    "# Group by the stop_year column and calculate the mean of the vehicle_year for each year\n",
    "Avg_Vehicle_Year=filtered_data.groupby('stop_year').agg({'vehicle_year':np.average})"
   ]
  },
  {
   "cell_type": "code",
   "execution_count": 34,
   "metadata": {},
   "outputs": [
    {
     "data": {
      "text/html": [
       "<div>\n",
       "<style>\n",
       "    .dataframe thead tr:only-child th {\n",
       "        text-align: right;\n",
       "    }\n",
       "\n",
       "    .dataframe thead th {\n",
       "        text-align: left;\n",
       "    }\n",
       "\n",
       "    .dataframe tbody tr th {\n",
       "        vertical-align: top;\n",
       "    }\n",
       "</style>\n",
       "<table border=\"1\" class=\"dataframe\">\n",
       "  <thead>\n",
       "    <tr style=\"text-align: right;\">\n",
       "      <th></th>\n",
       "      <th>vehicle_year</th>\n",
       "    </tr>\n",
       "    <tr>\n",
       "      <th>stop_year</th>\n",
       "      <th></th>\n",
       "    </tr>\n",
       "  </thead>\n",
       "  <tbody>\n",
       "    <tr>\n",
       "      <th>2009</th>\n",
       "      <td>2000.980215</td>\n",
       "    </tr>\n",
       "    <tr>\n",
       "      <th>2010</th>\n",
       "      <td>2001.521377</td>\n",
       "    </tr>\n",
       "    <tr>\n",
       "      <th>2011</th>\n",
       "      <td>2002.280938</td>\n",
       "    </tr>\n",
       "    <tr>\n",
       "      <th>2012</th>\n",
       "      <td>2003.362207</td>\n",
       "    </tr>\n",
       "    <tr>\n",
       "      <th>2013</th>\n",
       "      <td>2003.905175</td>\n",
       "    </tr>\n",
       "    <tr>\n",
       "      <th>2014</th>\n",
       "      <td>2004.482506</td>\n",
       "    </tr>\n",
       "    <tr>\n",
       "      <th>2015</th>\n",
       "      <td>2005.295767</td>\n",
       "    </tr>\n",
       "    <tr>\n",
       "      <th>2016</th>\n",
       "      <td>2005.872128</td>\n",
       "    </tr>\n",
       "  </tbody>\n",
       "</table>\n",
       "</div>"
      ],
      "text/plain": [
       "           vehicle_year\n",
       "stop_year              \n",
       "2009        2000.980215\n",
       "2010        2001.521377\n",
       "2011        2002.280938\n",
       "2012        2003.362207\n",
       "2013        2003.905175\n",
       "2014        2004.482506\n",
       "2015        2005.295767\n",
       "2016        2005.872128"
      ]
     },
     "execution_count": 34,
     "metadata": {},
     "output_type": "execute_result"
    }
   ],
   "source": [
    "Avg_Vehicle_Year"
   ]
  },
  {
   "cell_type": "code",
   "execution_count": 35,
   "metadata": {
    "collapsed": true
   },
   "outputs": [],
   "source": [
    "Avg_Vehicle_Year['stop_year'] = Avg_Vehicle_Year.index"
   ]
  },
  {
   "cell_type": "code",
   "execution_count": 36,
   "metadata": {},
   "outputs": [
    {
     "data": {
      "text/plain": [
       "<matplotlib.axes._subplots.AxesSubplot at 0x107566c10>"
      ]
     },
     "execution_count": 36,
     "metadata": {},
     "output_type": "execute_result"
    },
    {
     "data": {
      "image/png": "[encoded data removed]",
      "text/plain": [
       "<matplotlib.figure.Figure at 0x1075664d0>"
      ]
     },
     "metadata": {},
     "output_type": "display_data"
    }
   ],
   "source": [
    "%matplotlib inline \n",
    "Avg_Vehicle_Year.vehicle_year.plot()"
   ]
  },
  {
   "cell_type": "code",
   "execution_count": 37,
   "metadata": {
    "collapsed": true
   },
   "outputs": [],
   "source": [
    "X_matrix = Avg_Vehicle_Year.stop_year.values.reshape(-1,1)"
   ]
  },
  {
   "cell_type": "code",
   "execution_count": 38,
   "metadata": {},
   "outputs": [
    {
     "data": {
      "text/plain": [
       "array([[2009],\n",
       "       [2010],\n",
       "       [2011],\n",
       "       [2012],\n",
       "       [2013],\n",
       "       [2014],\n",
       "       [2015],\n",
       "       [2016]])"
      ]
     },
     "execution_count": 38,
     "metadata": {},
     "output_type": "execute_result"
    }
   ],
   "source": [
    "X_matrix"
   ]
  },
  {
   "cell_type": "code",
   "execution_count": 39,
   "metadata": {
    "collapsed": true
   },
   "outputs": [],
   "source": [
    "y_matrix = Avg_Vehicle_Year.vehicle_year.values"
   ]
  },
  {
   "cell_type": "code",
   "execution_count": 40,
   "metadata": {},
   "outputs": [
    {
     "data": {
      "text/plain": [
       "array([2000.98021484, 2001.52137704, 2002.28093777, 2003.36220682,\n",
       "       2003.9051753 , 2004.4825065 , 2005.29576691, 2005.87212849])"
      ]
     },
     "execution_count": 40,
     "metadata": {},
     "output_type": "execute_result"
    }
   ],
   "source": [
    "y_matrix"
   ]
  },
  {
   "cell_type": "code",
   "execution_count": 41,
   "metadata": {
    "collapsed": true
   },
   "outputs": [],
   "source": [
    "from sklearn import linear_model"
   ]
  },
  {
   "cell_type": "code",
   "execution_count": 42,
   "metadata": {
    "collapsed": true
   },
   "outputs": [],
   "source": [
    "lm = linear_model.LinearRegression()\n",
    "model = lm.fit(X_matrix,y_matrix)"
   ]
  },
  {
   "cell_type": "code",
   "execution_count": 43,
   "metadata": {
    "collapsed": true
   },
   "outputs": [],
   "source": [
    "predictions = lm.predict(2020)"
   ]
  },
  {
   "cell_type": "code",
   "execution_count": 44,
   "metadata": {},
   "outputs": [
    {
     "data": {
      "text/plain": [
       "array([2008.84316596])"
      ]
     },
     "execution_count": 44,
     "metadata": {},
     "output_type": "execute_result"
    }
   ],
   "source": [
    "predictions "
   ]
  },
  {
   "cell_type": "code",
   "execution_count": 45,
   "metadata": {},
   "outputs": [
    {
     "data": {
      "text/plain": [
       "0.9943630751989371"
      ]
     },
     "execution_count": 45,
     "metadata": {},
     "output_type": "execute_result"
    }
   ],
   "source": [
    "lm.score(X_matrix,y_matrix)"
   ]
  },
  {
   "cell_type": "code",
   "execution_count": 46,
   "metadata": {},
   "outputs": [
    {
     "data": {
      "text/plain": [
       "(array([[2009],\n",
       "        [2010],\n",
       "        [2011],\n",
       "        [2012],\n",
       "        [2013],\n",
       "        [2014],\n",
       "        [2015],\n",
       "        [2016]]),\n",
       " array([2000.98021484, 2001.52137704, 2002.28093777, 2003.36220682,\n",
       "        2003.9051753 , 2004.4825065 , 2005.29576691, 2005.87212849]))"
      ]
     },
     "execution_count": 46,
     "metadata": {},
     "output_type": "execute_result"
    }
   ],
   "source": [
    "(X_matrix,y_matrix)"
   ]
  },
  {
   "cell_type": "code",
   "execution_count": 47,
   "metadata": {
    "collapsed": true
   },
   "outputs": [],
   "source": [
    "import statsmodels.formula.api as smf"
   ]
  },
  {
   "cell_type": "code",
   "execution_count": 48,
   "metadata": {
    "collapsed": true
   },
   "outputs": [],
   "source": [
    "lm1 = smf.ols(formula='vehicle_year ~ stop_year', data=Avg_Vehicle_Year).fit()"
   ]
  },
  {
   "cell_type": "code",
   "execution_count": 49,
   "metadata": {},
   "outputs": [
    {
     "data": {
      "text/plain": [
       "Intercept    559.661028\n",
       "stop_year      0.717417\n",
       "dtype: float64"
      ]
     },
     "execution_count": 49,
     "metadata": {},
     "output_type": "execute_result"
    }
   ],
   "source": [
    "# print the coefficients\n",
    "lm1.params"
   ]
  },
  {
   "cell_type": "code",
   "execution_count": 50,
   "metadata": {},
   "outputs": [
    {
     "data": {
      "text/plain": [
       "Intercept    1.522647e-05\n",
       "stop_year    5.609148e-08\n",
       "dtype: float64"
      ]
     },
     "execution_count": 50,
     "metadata": {},
     "output_type": "execute_result"
    }
   ],
   "source": [
    "lm1.pvalues"
   ]
  },
  {
   "cell_type": "code",
   "execution_count": 51,
   "metadata": {},
   "outputs": [
    {
     "data": {
      "text/html": [
       "<div>\n",
       "<style>\n",
       "    .dataframe thead tr:only-child th {\n",
       "        text-align: right;\n",
       "    }\n",
       "\n",
       "    .dataframe thead th {\n",
       "        text-align: left;\n",
       "    }\n",
       "\n",
       "    .dataframe tbody tr th {\n",
       "        vertical-align: top;\n",
       "    }\n",
       "</style>\n",
       "<table border=\"1\" class=\"dataframe\">\n",
       "  <thead>\n",
       "    <tr style=\"text-align: right;\">\n",
       "      <th></th>\n",
       "      <th>city</th>\n",
       "      <th>contraband_found</th>\n",
       "      <th>county_fips</th>\n",
       "      <th>county_name</th>\n",
       "      <th>driver_age</th>\n",
       "      <th>driver_age_raw</th>\n",
       "      <th>driver_gender</th>\n",
       "      <th>driver_race</th>\n",
       "      <th>driver_race_raw</th>\n",
       "      <th>ethnicity</th>\n",
       "      <th>...</th>\n",
       "      <th>stop_date</th>\n",
       "      <th>stop_outcome</th>\n",
       "      <th>stop_outcome_raw</th>\n",
       "      <th>stop_time</th>\n",
       "      <th>vehicle_make</th>\n",
       "      <th>vehicle_model</th>\n",
       "      <th>vehicle_style</th>\n",
       "      <th>vehicle_year</th>\n",
       "      <th>violation</th>\n",
       "      <th>violation_raw</th>\n",
       "    </tr>\n",
       "  </thead>\n",
       "  <tbody>\n",
       "    <tr>\n",
       "      <th>0</th>\n",
       "      <td>NaN</td>\n",
       "      <td>False</td>\n",
       "      <td>30013.0</td>\n",
       "      <td>Cascade County</td>\n",
       "      <td>16.0</td>\n",
       "      <td>16.0</td>\n",
       "      <td>F</td>\n",
       "      <td>White</td>\n",
       "      <td>White</td>\n",
       "      <td>N</td>\n",
       "      <td>...</td>\n",
       "      <td>2009-01-01</td>\n",
       "      <td>Citation</td>\n",
       "      <td>TRAFFIC CITATION,WARNING</td>\n",
       "      <td>02:10</td>\n",
       "      <td>FORD</td>\n",
       "      <td>EXPLORER</td>\n",
       "      <td>SPORT UTILITY</td>\n",
       "      <td>1994</td>\n",
       "      <td>Other,Paperwork,Safe movement</td>\n",
       "      <td>240 - INSURANCE,150 - HIT AND RUN,245 - OTHER ...</td>\n",
       "    </tr>\n",
       "    <tr>\n",
       "      <th>1</th>\n",
       "      <td>NaN</td>\n",
       "      <td>False</td>\n",
       "      <td>30063.0</td>\n",
       "      <td>Missoula County</td>\n",
       "      <td>19.0</td>\n",
       "      <td>19.0</td>\n",
       "      <td>M</td>\n",
       "      <td>White</td>\n",
       "      <td>White</td>\n",
       "      <td>N</td>\n",
       "      <td>...</td>\n",
       "      <td>2009-01-02</td>\n",
       "      <td>Arrest</td>\n",
       "      <td>INFFRACTION ARREST,WARNING</td>\n",
       "      <td>11:34</td>\n",
       "      <td>GMC</td>\n",
       "      <td>TK</td>\n",
       "      <td>TRUCK</td>\n",
       "      <td>1996</td>\n",
       "      <td>Other (non-mapped),Seat belt</td>\n",
       "      <td>EXPIRED TAG ( 4 MONTHS OR LESS ),SEATBELT ( DR...</td>\n",
       "    </tr>\n",
       "    <tr>\n",
       "      <th>2</th>\n",
       "      <td>NaN</td>\n",
       "      <td>False</td>\n",
       "      <td>30063.0</td>\n",
       "      <td>Missoula County</td>\n",
       "      <td>17.0</td>\n",
       "      <td>17.0</td>\n",
       "      <td>M</td>\n",
       "      <td>White</td>\n",
       "      <td>White</td>\n",
       "      <td>N</td>\n",
       "      <td>...</td>\n",
       "      <td>2009-01-03</td>\n",
       "      <td>Arrest</td>\n",
       "      <td>INFFRACTION ARREST</td>\n",
       "      <td>11:36</td>\n",
       "      <td>GMC</td>\n",
       "      <td>YUKON</td>\n",
       "      <td>SPORT UTILITY</td>\n",
       "      <td>1999</td>\n",
       "      <td>Speeding</td>\n",
       "      <td>SPEED</td>\n",
       "    </tr>\n",
       "    <tr>\n",
       "      <th>3</th>\n",
       "      <td>NaN</td>\n",
       "      <td>False</td>\n",
       "      <td>30063.0</td>\n",
       "      <td>Missoula County</td>\n",
       "      <td>17.0</td>\n",
       "      <td>17.0</td>\n",
       "      <td>F</td>\n",
       "      <td>NaN</td>\n",
       "      <td>NaN</td>\n",
       "      <td>NaN</td>\n",
       "      <td>...</td>\n",
       "      <td>2009-01-04</td>\n",
       "      <td>Arrest</td>\n",
       "      <td>INFFRACTION ARREST</td>\n",
       "      <td>10:33</td>\n",
       "      <td>HOND</td>\n",
       "      <td>CR-V</td>\n",
       "      <td>SPORT UTILITY</td>\n",
       "      <td>2002</td>\n",
       "      <td>Speeding</td>\n",
       "      <td>SPEED</td>\n",
       "    </tr>\n",
       "    <tr>\n",
       "      <th>4</th>\n",
       "      <td>NaN</td>\n",
       "      <td>False</td>\n",
       "      <td>30063.0</td>\n",
       "      <td>Missoula County</td>\n",
       "      <td>31.0</td>\n",
       "      <td>31.0</td>\n",
       "      <td>M</td>\n",
       "      <td>NaN</td>\n",
       "      <td>NaN</td>\n",
       "      <td>NaN</td>\n",
       "      <td>...</td>\n",
       "      <td>2009-01-04</td>\n",
       "      <td>Arrest</td>\n",
       "      <td>INFFRACTION ARREST</td>\n",
       "      <td>10:46</td>\n",
       "      <td>TOYT</td>\n",
       "      <td>TERCEL</td>\n",
       "      <td>SEDAN</td>\n",
       "      <td>1992</td>\n",
       "      <td>Seat belt,Speeding</td>\n",
       "      <td>SPEED,SEATBELT ( DRIVER )</td>\n",
       "    </tr>\n",
       "  </tbody>\n",
       "</table>\n",
       "<p>5 rows × 34 columns</p>\n",
       "</div>"
      ],
      "text/plain": [
       "  city contraband_found  county_fips      county_name  driver_age  \\\n",
       "0  NaN            False      30013.0   Cascade County        16.0   \n",
       "1  NaN            False      30063.0  Missoula County        19.0   \n",
       "2  NaN            False      30063.0  Missoula County        17.0   \n",
       "3  NaN            False      30063.0  Missoula County        17.0   \n",
       "4  NaN            False      30063.0  Missoula County        31.0   \n",
       "\n",
       "   driver_age_raw driver_gender driver_race driver_race_raw ethnicity  \\\n",
       "0            16.0             F       White           White         N   \n",
       "1            19.0             M       White           White         N   \n",
       "2            17.0             M       White           White         N   \n",
       "3            17.0             F         NaN             NaN       NaN   \n",
       "4            31.0             M         NaN             NaN       NaN   \n",
       "\n",
       "                         ...                           stop_date stop_outcome  \\\n",
       "0                        ...                          2009-01-01     Citation   \n",
       "1                        ...                          2009-01-02       Arrest   \n",
       "2                        ...                          2009-01-03       Arrest   \n",
       "3                        ...                          2009-01-04       Arrest   \n",
       "4                        ...                          2009-01-04       Arrest   \n",
       "\n",
       "             stop_outcome_raw  stop_time vehicle_make  vehicle_model  \\\n",
       "0    TRAFFIC CITATION,WARNING      02:10         FORD       EXPLORER   \n",
       "1  INFFRACTION ARREST,WARNING      11:34          GMC             TK   \n",
       "2          INFFRACTION ARREST      11:36          GMC          YUKON   \n",
       "3          INFFRACTION ARREST      10:33         HOND           CR-V   \n",
       "4          INFFRACTION ARREST      10:46         TOYT         TERCEL   \n",
       "\n",
       "   vehicle_style vehicle_year                      violation  \\\n",
       "0  SPORT UTILITY         1994  Other,Paperwork,Safe movement   \n",
       "1          TRUCK         1996   Other (non-mapped),Seat belt   \n",
       "2  SPORT UTILITY         1999                       Speeding   \n",
       "3  SPORT UTILITY         2002                       Speeding   \n",
       "4          SEDAN         1992             Seat belt,Speeding   \n",
       "\n",
       "                                       violation_raw  \n",
       "0  240 - INSURANCE,150 - HIT AND RUN,245 - OTHER ...  \n",
       "1  EXPIRED TAG ( 4 MONTHS OR LESS ),SEATBELT ( DR...  \n",
       "2                                              SPEED  \n",
       "3                                              SPEED  \n",
       "4                          SPEED,SEATBELT ( DRIVER )  \n",
       "\n",
       "[5 rows x 34 columns]"
      ]
     },
     "execution_count": 51,
     "metadata": {},
     "output_type": "execute_result"
    }
   ],
   "source": [
    "# Combining both the Vermont and Montana datasets, \n",
    "# find the hours when the most and least number of traffic stops occurred?\n",
    "Combined_data = pd.concat([Montana, Vermont])\n",
    "Combined_data.head()"
   ]
  },
  {
   "cell_type": "code",
   "execution_count": 52,
   "metadata": {},
   "outputs": [
    {
     "data": {
      "text/plain": [
       "(1108403, 34)"
      ]
     },
     "execution_count": 52,
     "metadata": {},
     "output_type": "execute_result"
    }
   ],
   "source": [
    "Combined_data.shape"
   ]
  },
  {
   "cell_type": "code",
   "execution_count": 53,
   "metadata": {},
   "outputs": [
    {
     "data": {
      "text/plain": [
       "0    02:10\n",
       "1    11:34\n",
       "2    11:36\n",
       "3    10:33\n",
       "4    10:46\n",
       "Name: stop_time, dtype: object"
      ]
     },
     "execution_count": 53,
     "metadata": {},
     "output_type": "execute_result"
    }
   ],
   "source": [
    "Combined_data.stop_time.head()"
   ]
  },
  {
   "cell_type": "code",
   "execution_count": 54,
   "metadata": {
    "collapsed": true
   },
   "outputs": [],
   "source": [
    "# Create a new column in the dataset that is in the datetime format\n",
    "Combined_data['TimeFormat'] =  pd.to_datetime(Combined_data.stop_time)"
   ]
  },
  {
   "cell_type": "code",
   "execution_count": 55,
   "metadata": {},
   "outputs": [
    {
     "data": {
      "text/plain": [
       "0   2018-04-30 02:10:00\n",
       "1   2018-04-30 11:34:00\n",
       "2   2018-04-30 11:36:00\n",
       "3   2018-04-30 10:33:00\n",
       "4   2018-04-30 10:46:00\n",
       "Name: TimeFormat, dtype: datetime64[ns]"
      ]
     },
     "execution_count": 55,
     "metadata": {},
     "output_type": "execute_result"
    }
   ],
   "source": [
    "Combined_data.TimeFormat.head()"
   ]
  },
  {
   "cell_type": "code",
   "execution_count": 56,
   "metadata": {
    "collapsed": true
   },
   "outputs": [],
   "source": [
    "# Now replace the TimeFormat column with just the hour\n",
    "Combined_data['TimeFormat'] = Combined_data.TimeFormat.dt.hour"
   ]
  },
  {
   "cell_type": "code",
   "execution_count": 57,
   "metadata": {},
   "outputs": [
    {
     "data": {
      "text/plain": [
       "0     2.0\n",
       "1    11.0\n",
       "2    11.0\n",
       "3    10.0\n",
       "4    10.0\n",
       "Name: TimeFormat, dtype: float64"
      ]
     },
     "execution_count": 57,
     "metadata": {},
     "output_type": "execute_result"
    }
   ],
   "source": [
    "Combined_data.TimeFormat.head()"
   ]
  },
  {
   "cell_type": "code",
   "execution_count": 58,
   "metadata": {},
   "outputs": [
    {
     "data": {
      "text/plain": [
       "<matplotlib.axes._subplots.AxesSubplot at 0x10ac324d0>"
      ]
     },
     "execution_count": 58,
     "metadata": {},
     "output_type": "execute_result"
    },
    {
     "data": {
      "image/png": "[encoded data removed]",
      "text/plain": [
       "<matplotlib.figure.Figure at 0x10abc1390>"
      ]
     },
     "metadata": {},
     "output_type": "display_data"
    }
   ],
   "source": [
    "# Now group by Timeformat and return a sum of each grouping. Here we plot the result\n",
    "Combined_data.groupby('TimeFormat').agg({'TimeFormat':len}).plot()"
   ]
  },
  {
   "cell_type": "code",
   "execution_count": 59,
   "metadata": {
    "collapsed": true
   },
   "outputs": [],
   "source": [
    "# Hour of the most arrest?\n",
    "Result_of_group_by=Combined_data.groupby('TimeFormat').agg({'TimeFormat':len})"
   ]
  },
  {
   "cell_type": "code",
   "execution_count": 60,
   "metadata": {},
   "outputs": [
    {
     "data": {
      "text/html": [
       "<div>\n",
       "<style>\n",
       "    .dataframe thead tr:only-child th {\n",
       "        text-align: right;\n",
       "    }\n",
       "\n",
       "    .dataframe thead th {\n",
       "        text-align: left;\n",
       "    }\n",
       "\n",
       "    .dataframe tbody tr th {\n",
       "        vertical-align: top;\n",
       "    }\n",
       "</style>\n",
       "<table border=\"1\" class=\"dataframe\">\n",
       "  <thead>\n",
       "    <tr style=\"text-align: right;\">\n",
       "      <th></th>\n",
       "      <th>TimeFormat</th>\n",
       "    </tr>\n",
       "    <tr>\n",
       "      <th>TimeFormat</th>\n",
       "      <th></th>\n",
       "    </tr>\n",
       "  </thead>\n",
       "  <tbody>\n",
       "    <tr>\n",
       "      <th>0.0</th>\n",
       "      <td>25490.0</td>\n",
       "    </tr>\n",
       "    <tr>\n",
       "      <th>1.0</th>\n",
       "      <td>16856.0</td>\n",
       "    </tr>\n",
       "    <tr>\n",
       "      <th>2.0</th>\n",
       "      <td>8399.0</td>\n",
       "    </tr>\n",
       "    <tr>\n",
       "      <th>3.0</th>\n",
       "      <td>1425.0</td>\n",
       "    </tr>\n",
       "    <tr>\n",
       "      <th>4.0</th>\n",
       "      <td>547.0</td>\n",
       "    </tr>\n",
       "  </tbody>\n",
       "</table>\n",
       "</div>"
      ],
      "text/plain": [
       "            TimeFormat\n",
       "TimeFormat            \n",
       "0.0            25490.0\n",
       "1.0            16856.0\n",
       "2.0             8399.0\n",
       "3.0             1425.0\n",
       "4.0              547.0"
      ]
     },
     "execution_count": 60,
     "metadata": {},
     "output_type": "execute_result"
    }
   ],
   "source": [
    "Result_of_group_by.head()"
   ]
  },
  {
   "cell_type": "code",
   "execution_count": 61,
   "metadata": {
    "collapsed": true
   },
   "outputs": [],
   "source": [
    "Peak_Crime = Result_of_group_by.max()[0]"
   ]
  },
  {
   "cell_type": "code",
   "execution_count": 62,
   "metadata": {},
   "outputs": [
    {
     "data": {
      "text/plain": [
       "95891.0"
      ]
     },
     "execution_count": 62,
     "metadata": {},
     "output_type": "execute_result"
    }
   ],
   "source": [
    "Peak_Crime "
   ]
  },
  {
   "cell_type": "code",
   "execution_count": 63,
   "metadata": {},
   "outputs": [
    {
     "data": {
      "text/plain": [
       "15.0"
      ]
     },
     "execution_count": 63,
     "metadata": {},
     "output_type": "execute_result"
    }
   ],
   "source": [
    "# Hour in which this peak crime time fell in\n",
    "Result_of_group_by[Result_of_group_by.TimeFormat==Peak_Crime].index.item()"
   ]
  },
  {
   "cell_type": "code",
   "execution_count": 64,
   "metadata": {},
   "outputs": [
    {
     "data": {
      "text/plain": [
       "4.0"
      ]
     },
     "execution_count": 64,
     "metadata": {},
     "output_type": "execute_result"
    }
   ],
   "source": [
    "# Hour of lowest crime rate\n",
    "# Hour of the least arrest?\n",
    "Low_Crime = Result_of_group_by.min()[0]\n",
    "# Hour in which this low crime time fell in\n",
    "Result_of_group_by[Result_of_group_by.TimeFormat==Low_Crime].index.item()\n"
   ]
  },
  {
   "cell_type": "code",
   "execution_count": 65,
   "metadata": {},
   "outputs": [
    {
     "data": {
      "text/plain": [
       "95344.0"
      ]
     },
     "execution_count": 65,
     "metadata": {},
     "output_type": "execute_result"
    }
   ],
   "source": [
    "# What is the difference in the total number of stops that occurred in these two hours?\n",
    "Peak_Crime - Low_Crime"
   ]
  },
  {
   "cell_type": "code",
   "execution_count": null,
   "metadata": {
    "collapsed": true
   },
   "outputs": [],
   "source": []
  }
 ],
 "metadata": {
  "kernelspec": {
   "display_name": "Python 2",
   "language": "python",
   "name": "python2"
  },
  "language_info": {
   "codemirror_mode": {
    "name": "ipython",
    "version": 2
   },
   "file_extension": ".py",
   "mimetype": "text/x-python",
   "name": "python",
   "nbconvert_exporter": "python",
   "pygments_lexer": "ipython2",
   "version": "2.7.14"
  }
 },
 "nbformat": 4,
 "nbformat_minor": 2
}
