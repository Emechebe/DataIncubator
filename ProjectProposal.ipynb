{
 "cells": [
  {
   "cell_type": "code",
   "execution_count": 1,
   "metadata": {
    "collapsed": true
   },
   "outputs": [],
   "source": [
    "# Mean Airbnb Prices"
   ]
  },
  {
   "cell_type": "code",
   "execution_count": 1,
   "metadata": {
    "collapsed": true
   },
   "outputs": [],
   "source": [
    "# Read in data\n",
    "import pandas as pd\n",
    "import numpy as np"
   ]
  },
  {
   "cell_type": "code",
   "execution_count": 2,
   "metadata": {
    "collapsed": true
   },
   "outputs": [],
   "source": [
    "data = pd.read_csv('tomslee_airbnb_portland_1427_2017-07-10.csv')"
   ]
  },
  {
   "cell_type": "code",
   "execution_count": 3,
   "metadata": {},
   "outputs": [
    {
     "data": {
      "text/html": [
       "<div>\n",
       "<style>\n",
       "    .dataframe thead tr:only-child th {\n",
       "        text-align: right;\n",
       "    }\n",
       "\n",
       "    .dataframe thead th {\n",
       "        text-align: left;\n",
       "    }\n",
       "\n",
       "    .dataframe tbody tr th {\n",
       "        vertical-align: top;\n",
       "    }\n",
       "</style>\n",
       "<table border=\"1\" class=\"dataframe\">\n",
       "  <thead>\n",
       "    <tr style=\"text-align: right;\">\n",
       "      <th></th>\n",
       "      <th>room_id</th>\n",
       "      <th>survey_id</th>\n",
       "      <th>host_id</th>\n",
       "      <th>room_type</th>\n",
       "      <th>country</th>\n",
       "      <th>city</th>\n",
       "      <th>borough</th>\n",
       "      <th>neighborhood</th>\n",
       "      <th>reviews</th>\n",
       "      <th>overall_satisfaction</th>\n",
       "      <th>accommodates</th>\n",
       "      <th>bedrooms</th>\n",
       "      <th>bathrooms</th>\n",
       "      <th>price</th>\n",
       "      <th>minstay</th>\n",
       "      <th>last_modified</th>\n",
       "      <th>latitude</th>\n",
       "      <th>longitude</th>\n",
       "      <th>location</th>\n",
       "    </tr>\n",
       "  </thead>\n",
       "  <tbody>\n",
       "    <tr>\n",
       "      <th>0</th>\n",
       "      <td>15692804</td>\n",
       "      <td>1427</td>\n",
       "      <td>101302601</td>\n",
       "      <td>Shared room</td>\n",
       "      <td>NaN</td>\n",
       "      <td>Portland</td>\n",
       "      <td>NaN</td>\n",
       "      <td>Buckman</td>\n",
       "      <td>0</td>\n",
       "      <td>0.0</td>\n",
       "      <td>1</td>\n",
       "      <td>1.0</td>\n",
       "      <td>NaN</td>\n",
       "      <td>150.0</td>\n",
       "      <td>NaN</td>\n",
       "      <td>2017-07-10 06:09:47.137930</td>\n",
       "      <td>45.520805</td>\n",
       "      <td>-122.639521</td>\n",
       "      <td>0101000020E6100000BC067DE9EDA85EC0F14BFDBCA9C2...</td>\n",
       "    </tr>\n",
       "    <tr>\n",
       "      <th>1</th>\n",
       "      <td>9364108</td>\n",
       "      <td>1427</td>\n",
       "      <td>17553340</td>\n",
       "      <td>Shared room</td>\n",
       "      <td>NaN</td>\n",
       "      <td>Portland</td>\n",
       "      <td>NaN</td>\n",
       "      <td>Irvington</td>\n",
       "      <td>2</td>\n",
       "      <td>0.0</td>\n",
       "      <td>4</td>\n",
       "      <td>1.0</td>\n",
       "      <td>NaN</td>\n",
       "      <td>99.0</td>\n",
       "      <td>NaN</td>\n",
       "      <td>2017-07-10 06:09:42.463262</td>\n",
       "      <td>45.535751</td>\n",
       "      <td>-122.644924</td>\n",
       "      <td>0101000020E6100000F419506F46A95EC04FE61F7D93C4...</td>\n",
       "    </tr>\n",
       "    <tr>\n",
       "      <th>2</th>\n",
       "      <td>7857619</td>\n",
       "      <td>1427</td>\n",
       "      <td>41406697</td>\n",
       "      <td>Shared room</td>\n",
       "      <td>NaN</td>\n",
       "      <td>Portland</td>\n",
       "      <td>NaN</td>\n",
       "      <td>Richmond</td>\n",
       "      <td>0</td>\n",
       "      <td>0.0</td>\n",
       "      <td>1</td>\n",
       "      <td>1.0</td>\n",
       "      <td>NaN</td>\n",
       "      <td>82.0</td>\n",
       "      <td>NaN</td>\n",
       "      <td>2017-07-10 06:09:42.459591</td>\n",
       "      <td>45.506519</td>\n",
       "      <td>-122.620344</td>\n",
       "      <td>0101000020E6100000451152B7B3A75EC0BCE6559DD5C0...</td>\n",
       "    </tr>\n",
       "    <tr>\n",
       "      <th>3</th>\n",
       "      <td>9301213</td>\n",
       "      <td>1427</td>\n",
       "      <td>44918156</td>\n",
       "      <td>Shared room</td>\n",
       "      <td>NaN</td>\n",
       "      <td>Portland</td>\n",
       "      <td>NaN</td>\n",
       "      <td>West Beaverton</td>\n",
       "      <td>2</td>\n",
       "      <td>0.0</td>\n",
       "      <td>2</td>\n",
       "      <td>1.0</td>\n",
       "      <td>NaN</td>\n",
       "      <td>65.0</td>\n",
       "      <td>NaN</td>\n",
       "      <td>2017-07-10 06:09:40.896065</td>\n",
       "      <td>45.473827</td>\n",
       "      <td>-122.828864</td>\n",
       "      <td>0101000020E61000003B35971B0CB55EC01C7BF65CA6BC...</td>\n",
       "    </tr>\n",
       "    <tr>\n",
       "      <th>4</th>\n",
       "      <td>12737199</td>\n",
       "      <td>1427</td>\n",
       "      <td>13126556</td>\n",
       "      <td>Shared room</td>\n",
       "      <td>NaN</td>\n",
       "      <td>Portland</td>\n",
       "      <td>NaN</td>\n",
       "      <td>Brentwood-Darlington</td>\n",
       "      <td>1</td>\n",
       "      <td>0.0</td>\n",
       "      <td>1</td>\n",
       "      <td>1.0</td>\n",
       "      <td>NaN</td>\n",
       "      <td>80.0</td>\n",
       "      <td>NaN</td>\n",
       "      <td>2017-07-10 06:09:40.887722</td>\n",
       "      <td>45.471051</td>\n",
       "      <td>-122.608644</td>\n",
       "      <td>0101000020E610000006BAF605F4A65EC0C2DF2F664BBC...</td>\n",
       "    </tr>\n",
       "  </tbody>\n",
       "</table>\n",
       "</div>"
      ],
      "text/plain": [
       "    room_id  survey_id    host_id    room_type  country      city  borough  \\\n",
       "0  15692804       1427  101302601  Shared room      NaN  Portland      NaN   \n",
       "1   9364108       1427   17553340  Shared room      NaN  Portland      NaN   \n",
       "2   7857619       1427   41406697  Shared room      NaN  Portland      NaN   \n",
       "3   9301213       1427   44918156  Shared room      NaN  Portland      NaN   \n",
       "4  12737199       1427   13126556  Shared room      NaN  Portland      NaN   \n",
       "\n",
       "           neighborhood  reviews  overall_satisfaction  accommodates  \\\n",
       "0               Buckman        0                   0.0             1   \n",
       "1             Irvington        2                   0.0             4   \n",
       "2              Richmond        0                   0.0             1   \n",
       "3        West Beaverton        2                   0.0             2   \n",
       "4  Brentwood-Darlington        1                   0.0             1   \n",
       "\n",
       "   bedrooms  bathrooms  price  minstay               last_modified   latitude  \\\n",
       "0       1.0        NaN  150.0      NaN  2017-07-10 06:09:47.137930  45.520805   \n",
       "1       1.0        NaN   99.0      NaN  2017-07-10 06:09:42.463262  45.535751   \n",
       "2       1.0        NaN   82.0      NaN  2017-07-10 06:09:42.459591  45.506519   \n",
       "3       1.0        NaN   65.0      NaN  2017-07-10 06:09:40.896065  45.473827   \n",
       "4       1.0        NaN   80.0      NaN  2017-07-10 06:09:40.887722  45.471051   \n",
       "\n",
       "    longitude                                           location  \n",
       "0 -122.639521  0101000020E6100000BC067DE9EDA85EC0F14BFDBCA9C2...  \n",
       "1 -122.644924  0101000020E6100000F419506F46A95EC04FE61F7D93C4...  \n",
       "2 -122.620344  0101000020E6100000451152B7B3A75EC0BCE6559DD5C0...  \n",
       "3 -122.828864  0101000020E61000003B35971B0CB55EC01C7BF65CA6BC...  \n",
       "4 -122.608644  0101000020E610000006BAF605F4A65EC0C2DF2F664BBC...  "
      ]
     },
     "execution_count": 3,
     "metadata": {},
     "output_type": "execute_result"
    }
   ],
   "source": [
    "data.head()"
   ]
  },
  {
   "cell_type": "code",
   "execution_count": 4,
   "metadata": {},
   "outputs": [
    {
     "data": {
      "text/plain": [
       "array(['Shared room', 'Entire home/apt', 'Private room'], dtype=object)"
      ]
     },
     "execution_count": 4,
     "metadata": {},
     "output_type": "execute_result"
    }
   ],
   "source": [
    "# How many kinds of accomodation offered by Air b n b?\n",
    "data.room_type.unique()"
   ]
  },
  {
   "cell_type": "code",
   "execution_count": 5,
   "metadata": {},
   "outputs": [
    {
     "data": {
      "text/html": [
       "<div>\n",
       "<style>\n",
       "    .dataframe thead tr:only-child th {\n",
       "        text-align: right;\n",
       "    }\n",
       "\n",
       "    .dataframe thead th {\n",
       "        text-align: left;\n",
       "    }\n",
       "\n",
       "    .dataframe tbody tr th {\n",
       "        vertical-align: top;\n",
       "    }\n",
       "</style>\n",
       "<table border=\"1\" class=\"dataframe\">\n",
       "  <thead>\n",
       "    <tr style=\"text-align: right;\">\n",
       "      <th></th>\n",
       "      <th>price</th>\n",
       "    </tr>\n",
       "    <tr>\n",
       "      <th>room_type</th>\n",
       "      <th></th>\n",
       "    </tr>\n",
       "  </thead>\n",
       "  <tbody>\n",
       "    <tr>\n",
       "      <th>Entire home/apt</th>\n",
       "      <td>139.337092</td>\n",
       "    </tr>\n",
       "    <tr>\n",
       "      <th>Private room</th>\n",
       "      <td>67.358935</td>\n",
       "    </tr>\n",
       "    <tr>\n",
       "      <th>Shared room</th>\n",
       "      <td>45.888889</td>\n",
       "    </tr>\n",
       "  </tbody>\n",
       "</table>\n",
       "</div>"
      ],
      "text/plain": [
       "                      price\n",
       "room_type                  \n",
       "Entire home/apt  139.337092\n",
       "Private room      67.358935\n",
       "Shared room       45.888889"
      ]
     },
     "execution_count": 5,
     "metadata": {},
     "output_type": "execute_result"
    }
   ],
   "source": [
    "# What is the average price of each kind of accomodation\n",
    "data.groupby('room_type').agg({'price':np.average})"
   ]
  },
  {
   "cell_type": "code",
   "execution_count": 6,
   "metadata": {},
   "outputs": [
    {
     "data": {
      "text/plain": [
       "array(['Buckman', 'Irvington', 'Richmond', 'West Beaverton',\n",
       "       'Brentwood-Darlington', 'Downtown', 'Old Town-Chinatown',\n",
       "       'Homestead', 'Hazelwood', 'Boise', 'Central Beaverton',\n",
       "       'Northwest', 'Lents', 'Brooklyn', 'Centennial', 'Vose',\n",
       "       'Montavilla', 'Powellhurst', 'Roseway', 'Eliot',\n",
       "       'Sellwood-Moreland', 'Reed', 'King', 'Center', 'Hillsdale',\n",
       "       'Arbor Lodge', 'Cathedral Park', 'Eastmoreland',\n",
       "       'Maplewood-Ashcreek', 'Far Southwest', 'Mount Tabor',\n",
       "       'South Tabor', 'Hosford', 'Kenton', 'Cully', 'University Park',\n",
       "       'Concordia', 'Forest Park', 'Woodlawn', 'Overlook', 'Kerns',\n",
       "       'West Slope', 'Pearl District', 'Corbett-Terwilliger-Lair Hill',\n",
       "       'Southwest Hills', 'Woodstock', 'Mount Scott', 'Foster Powell',\n",
       "       'Creston-Kenilworth', 'Hayhurst', 'Bridgeton', 'Alameda',\n",
       "       'Madison South', 'Portsmith', 'Pleasant Valley',\n",
       "       'Neighbors Southwest', 'Ardenwald', 'Wilkes', 'Parkrose',\n",
       "       'Denny Whitford', 'Lloyd', 'Greenway', 'Highlands', 'Lake Road',\n",
       "       'Sexton Mountain', 'Raleigh West', 'Lewelling', 'Triple Creek',\n",
       "       'Linnton', 'Bridlemile', 'Saintjohns', 'Island Station',\n",
       "       'Mill Park', 'Argay', 'Five Oaks', 'Sunderland',\n",
       "       'Historic Milwaukie', 'Linwood', 'South Beaverton', 'Haden Island'],\n",
       "      dtype=object)"
      ]
     },
     "execution_count": 6,
     "metadata": {},
     "output_type": "execute_result"
    }
   ],
   "source": [
    "# How many kinds of accomodation offered by Air b n b?\n",
    "data.neighborhood.unique()"
   ]
  },
  {
   "cell_type": "code",
   "execution_count": 7,
   "metadata": {},
   "outputs": [
    {
     "data": {
      "text/plain": [
       "80"
      ]
     },
     "execution_count": 7,
     "metadata": {},
     "output_type": "execute_result"
    }
   ],
   "source": [
    "# What is the neighbourhood?\n",
    "len(data.neighborhood.unique())"
   ]
  },
  {
   "cell_type": "code",
   "execution_count": 8,
   "metadata": {},
   "outputs": [
    {
     "data": {
      "text/plain": [
       "<matplotlib.axes._subplots.AxesSubplot at 0x10785d8d0>"
      ]
     },
     "execution_count": 8,
     "metadata": {},
     "output_type": "execute_result"
    },
    {
     "data": {
      "image/png": "[encoded data removed]",
      "text/plain": [
       "<matplotlib.figure.Figure at 0x1077fcf50>"
      ]
     },
     "metadata": {},
     "output_type": "display_data"
    }
   ],
   "source": [
    "# What is the average price of Air b n b \n",
    "# To do this, group the neighbourhood column, then get the average price of each neigbourhood and \n",
    "# display in a line plot\n",
    "%matplotlib inline  \n",
    "data.groupby('neighborhood').agg({'price':np.average}).plot()"
   ]
  },
  {
   "cell_type": "code",
   "execution_count": 9,
   "metadata": {},
   "outputs": [
    {
     "data": {
      "text/plain": [
       "<matplotlib.axes._subplots.AxesSubplot at 0x107895a90>"
      ]
     },
     "execution_count": 9,
     "metadata": {},
     "output_type": "execute_result"
    },
    {
     "data": {
      "image/png": "[encoded data removed]",
      "text/plain": [
       "<matplotlib.figure.Figure at 0x1068e6250>"
      ]
     },
     "metadata": {},
     "output_type": "display_data"
    }
   ],
   "source": [
    "# Visualize by bar plot. That seemed better\n",
    "data.groupby('neighborhood').agg({'price':np.average}).plot(kind='bar')"
   ]
  },
  {
   "cell_type": "code",
   "execution_count": 10,
   "metadata": {},
   "outputs": [
    {
     "data": {
      "text/plain": [
       "<matplotlib.axes._subplots.AxesSubplot at 0x107bccf90>"
      ]
     },
     "execution_count": 10,
     "metadata": {},
     "output_type": "execute_result"
    },
    {
     "data": {
      "image/png": "[encoded data removed]",
      "text/plain": [
       "<matplotlib.figure.Figure at 0x107be2990>"
      ]
     },
     "metadata": {},
     "output_type": "display_data"
    }
   ],
   "source": [
    "# Sort the values and then plot by increasing average prices. \n",
    "# No surpises there, Pearl District was the most expensive with Lents as the cheapest. \n",
    "data.groupby('neighborhood').agg({'price':np.average}).sort_values('price').plot(kind='bar')"
   ]
  },
  {
   "cell_type": "code",
   "execution_count": 11,
   "metadata": {
    "collapsed": true
   },
   "outputs": [],
   "source": [
    "# Save the data, mean Air b n b prices for neighborhoods\n",
    "Neighborhood_prices=data.groupby('neighborhood').agg({'price':np.average}).sort_values('price')"
   ]
  },
  {
   "cell_type": "code",
   "execution_count": 12,
   "metadata": {},
   "outputs": [
    {
     "data": {
      "text/html": [
       "<div>\n",
       "<style>\n",
       "    .dataframe thead tr:only-child th {\n",
       "        text-align: right;\n",
       "    }\n",
       "\n",
       "    .dataframe thead th {\n",
       "        text-align: left;\n",
       "    }\n",
       "\n",
       "    .dataframe tbody tr th {\n",
       "        vertical-align: top;\n",
       "    }\n",
       "</style>\n",
       "<table border=\"1\" class=\"dataframe\">\n",
       "  <thead>\n",
       "    <tr style=\"text-align: right;\">\n",
       "      <th></th>\n",
       "      <th>price</th>\n",
       "    </tr>\n",
       "    <tr>\n",
       "      <th>neighborhood</th>\n",
       "      <th></th>\n",
       "    </tr>\n",
       "  </thead>\n",
       "  <tbody>\n",
       "    <tr>\n",
       "      <th>Five Oaks</th>\n",
       "      <td>48.500000</td>\n",
       "    </tr>\n",
       "    <tr>\n",
       "      <th>Centennial</th>\n",
       "      <td>53.272727</td>\n",
       "    </tr>\n",
       "    <tr>\n",
       "      <th>Mill Park</th>\n",
       "      <td>58.333333</td>\n",
       "    </tr>\n",
       "    <tr>\n",
       "      <th>South Beaverton</th>\n",
       "      <td>60.000000</td>\n",
       "    </tr>\n",
       "    <tr>\n",
       "      <th>Neighbors Southwest</th>\n",
       "      <td>60.400000</td>\n",
       "    </tr>\n",
       "  </tbody>\n",
       "</table>\n",
       "</div>"
      ],
      "text/plain": [
       "                         price\n",
       "neighborhood                  \n",
       "Five Oaks            48.500000\n",
       "Centennial           53.272727\n",
       "Mill Park            58.333333\n",
       "South Beaverton      60.000000\n",
       "Neighbors Southwest  60.400000"
      ]
     },
     "execution_count": 12,
     "metadata": {},
     "output_type": "execute_result"
    }
   ],
   "source": [
    "Neighborhood_prices.head()"
   ]
  },
  {
   "cell_type": "code",
   "execution_count": 13,
   "metadata": {
    "collapsed": true
   },
   "outputs": [],
   "source": [
    "# Save data as a csv file\n",
    "Neighborhood_prices.to_csv('Neighborhood_prices.csv', sep=',')"
   ]
  },
  {
   "cell_type": "code",
   "execution_count": 16,
   "metadata": {},
   "outputs": [
    {
     "data": {
      "text/plain": [
       "113.88430379746835"
      ]
     },
     "execution_count": 16,
     "metadata": {},
     "output_type": "execute_result"
    }
   ],
   "source": [
    "data.price.mean()"
   ]
  },
  {
   "cell_type": "code",
   "execution_count": null,
   "metadata": {
    "collapsed": true
   },
   "outputs": [],
   "source": [
    "# data = pd.read_csv('tomslee_airbnb_portland_1427_2017-07-10.csv')"
   ]
  },
  {
   "cell_type": "code",
   "execution_count": 19,
   "metadata": {},
   "outputs": [],
   "source": [
    "import glob\n",
    "CSVs = glob.glob('*.csv')"
   ]
  },
  {
   "cell_type": "code",
   "execution_count": 30,
   "metadata": {},
   "outputs": [
    {
     "name": "stdout",
     "output_type": "stream",
     "text": [
      "(122.02631578947368, '2014')\n",
      "(130.27105263157895, '2015')\n",
      "(165.24673969744393, '2015')\n",
      "(112.62929061784897, '2015')\n",
      "(111.53637031594415, '2015')\n",
      "(108.59571478749561, '2015')\n",
      "(107.43360433604336, '2015')\n",
      "(106.89161201242665, '2016')\n",
      "(105.02457912457912, '2016')\n",
      "(105.04127396815079, '2016')\n",
      "(106.30626598465473, '2016')\n",
      "(106.46077825818406, '2016')\n",
      "(113.30919302394325, '2016')\n",
      "(115.64616704805492, '2016')\n",
      "(116.21851953018302, '2016')\n",
      "(114.29967689822294, '2016')\n",
      "(117.04853833425263, '2016')\n",
      "(118.23760858456822, '2016')\n",
      "(104.639896373057, '2017')\n",
      "(104.87333854573886, '2017')\n",
      "(103.7742796157951, '2017')\n",
      "(108.46560264171711, '2017')\n",
      "(110.53712737127371, '2017')\n",
      "(114.40655307994757, '2017')\n",
      "(113.88430379746835, '2017')\n"
     ]
    }
   ],
   "source": [
    "MeanPrices = []\n",
    "Year = []\n",
    "for i in CSVs:\n",
    "    data = pd.read_csv(i)\n",
    "    Mean=data.price.mean()\n",
    "    print (Mean, i.split('_')[4].split('.')[0].split('-')[0])\n",
    "    MeanPrices.append(Mean)\n",
    "    Year.append(i.split('_')[4].split('.')[0].split('-')[0])"
   ]
  },
  {
   "cell_type": "code",
   "execution_count": 46,
   "metadata": {
    "collapsed": true
   },
   "outputs": [],
   "source": [
    "df = pd.DataFrame(Year,MeanPrices)"
   ]
  },
  {
   "cell_type": "code",
   "execution_count": 48,
   "metadata": {},
   "outputs": [],
   "source": [
    "df.reset_index(level=0, inplace=True)"
   ]
  },
  {
   "cell_type": "code",
   "execution_count": 52,
   "metadata": {},
   "outputs": [],
   "source": [
    "df.columns = ['MeanPrices','Year']"
   ]
  },
  {
   "cell_type": "code",
   "execution_count": 53,
   "metadata": {},
   "outputs": [
    {
     "data": {
      "text/html": [
       "<div>\n",
       "<style>\n",
       "    .dataframe thead tr:only-child th {\n",
       "        text-align: right;\n",
       "    }\n",
       "\n",
       "    .dataframe thead th {\n",
       "        text-align: left;\n",
       "    }\n",
       "\n",
       "    .dataframe tbody tr th {\n",
       "        vertical-align: top;\n",
       "    }\n",
       "</style>\n",
       "<table border=\"1\" class=\"dataframe\">\n",
       "  <thead>\n",
       "    <tr style=\"text-align: right;\">\n",
       "      <th></th>\n",
       "      <th>MeanPrices</th>\n",
       "      <th>Year</th>\n",
       "    </tr>\n",
       "  </thead>\n",
       "  <tbody>\n",
       "    <tr>\n",
       "      <th>0</th>\n",
       "      <td>122.026316</td>\n",
       "      <td>2014</td>\n",
       "    </tr>\n",
       "    <tr>\n",
       "      <th>1</th>\n",
       "      <td>130.271053</td>\n",
       "      <td>2015</td>\n",
       "    </tr>\n",
       "    <tr>\n",
       "      <th>2</th>\n",
       "      <td>165.246740</td>\n",
       "      <td>2015</td>\n",
       "    </tr>\n",
       "    <tr>\n",
       "      <th>3</th>\n",
       "      <td>112.629291</td>\n",
       "      <td>2015</td>\n",
       "    </tr>\n",
       "    <tr>\n",
       "      <th>4</th>\n",
       "      <td>111.536370</td>\n",
       "      <td>2015</td>\n",
       "    </tr>\n",
       "  </tbody>\n",
       "</table>\n",
       "</div>"
      ],
      "text/plain": [
       "   MeanPrices  Year\n",
       "0  122.026316  2014\n",
       "1  130.271053  2015\n",
       "2  165.246740  2015\n",
       "3  112.629291  2015\n",
       "4  111.536370  2015"
      ]
     },
     "execution_count": 53,
     "metadata": {},
     "output_type": "execute_result"
    }
   ],
   "source": [
    "df.head()"
   ]
  },
  {
   "cell_type": "code",
   "execution_count": 55,
   "metadata": {},
   "outputs": [
    {
     "data": {
      "text/plain": [
       "<matplotlib.axes._subplots.AxesSubplot at 0x108078b50>"
      ]
     },
     "execution_count": 55,
     "metadata": {},
     "output_type": "execute_result"
    },
    {
     "data": {
      "image/png": "[encoded data removed]",
      "text/plain": [
       "<matplotlib.figure.Figure at 0x102a71d50>"
      ]
     },
     "metadata": {},
     "output_type": "display_data"
    }
   ],
   "source": [
    "df.groupby('Year').agg(np.mean).plot()"
   ]
  },
  {
   "cell_type": "code",
   "execution_count": 41,
   "metadata": {},
   "outputs": [],
   "source": [
    "df.columns = ['Year','MeanPrices']"
   ]
  },
  {
   "cell_type": "code",
   "execution_count": 56,
   "metadata": {
    "collapsed": true
   },
   "outputs": [],
   "source": [
    "Airbnb_MeanPrices=df.groupby('Year').agg(np.mean)"
   ]
  },
  {
   "cell_type": "code",
   "execution_count": 57,
   "metadata": {},
   "outputs": [
    {
     "data": {
      "text/html": [
       "<div>\n",
       "<style>\n",
       "    .dataframe thead tr:only-child th {\n",
       "        text-align: right;\n",
       "    }\n",
       "\n",
       "    .dataframe thead th {\n",
       "        text-align: left;\n",
       "    }\n",
       "\n",
       "    .dataframe tbody tr th {\n",
       "        vertical-align: top;\n",
       "    }\n",
       "</style>\n",
       "<table border=\"1\" class=\"dataframe\">\n",
       "  <thead>\n",
       "    <tr style=\"text-align: right;\">\n",
       "      <th></th>\n",
       "      <th>MeanPrices</th>\n",
       "    </tr>\n",
       "    <tr>\n",
       "      <th>Year</th>\n",
       "      <th></th>\n",
       "    </tr>\n",
       "  </thead>\n",
       "  <tbody>\n",
       "    <tr>\n",
       "      <th>2014</th>\n",
       "      <td>122.026316</td>\n",
       "    </tr>\n",
       "    <tr>\n",
       "      <th>2015</th>\n",
       "      <td>122.618795</td>\n",
       "    </tr>\n",
       "    <tr>\n",
       "      <th>2016</th>\n",
       "      <td>111.316747</td>\n",
       "    </tr>\n",
       "    <tr>\n",
       "      <th>2017</th>\n",
       "      <td>108.654443</td>\n",
       "    </tr>\n",
       "  </tbody>\n",
       "</table>\n",
       "</div>"
      ],
      "text/plain": [
       "      MeanPrices\n",
       "Year            \n",
       "2014  122.026316\n",
       "2015  122.618795\n",
       "2016  111.316747\n",
       "2017  108.654443"
      ]
     },
     "execution_count": 57,
     "metadata": {},
     "output_type": "execute_result"
    }
   ],
   "source": [
    "Airbnb_MeanPrices"
   ]
  },
  {
   "cell_type": "code",
   "execution_count": null,
   "metadata": {
    "collapsed": true
   },
   "outputs": [],
   "source": []
  }
 ],
 "metadata": {
  "kernelspec": {
   "display_name": "Python 2",
   "language": "python",
   "name": "python2"
  },
  "language_info": {
   "codemirror_mode": {
    "name": "ipython",
    "version": 2
   },
   "file_extension": ".py",
   "mimetype": "text/x-python",
   "name": "python",
   "nbconvert_exporter": "python",
   "pygments_lexer": "ipython2",
   "version": "2.7.14"
  }
 },
 "nbformat": 4,
 "nbformat_minor": 2
}
